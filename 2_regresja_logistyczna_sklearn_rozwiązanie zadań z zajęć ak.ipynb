{
 "cells": [
  {
   "cell_type": "code",
   "execution_count": 38,
   "id": "f0e561a0",
   "metadata": {},
   "outputs": [],
   "source": [
    "# ładowanie bibliotek\n",
    "import pandas as pd\n",
    "from sklearn.linear_model import LogisticRegression\n",
    "\n",
    "from sklearn.model_selection import train_test_split\n",
    "from sklearn.metrics import confusion_matrix, classification_report\n",
    "\n",
    "from sklearn.metrics import ConfusionMatrixDisplay\n",
    "from sklearn.metrics import roc_curve\n",
    "from sklearn.metrics import RocCurveDisplay\n",
    "from sklearn.metrics import auc\n",
    "from sklearn.metrics import roc_auc_score\n",
    "\n",
    "from sklearn import datasets\n",
    "iris = datasets.load_iris()"
   ]
  },
  {
   "cell_type": "code",
   "execution_count": 4,
   "id": "0773404a",
   "metadata": {},
   "outputs": [
    {
     "data": {
      "text/plain": [
       "['sepal length (cm)',\n",
       " 'sepal width (cm)',\n",
       " 'petal length (cm)',\n",
       " 'petal width (cm)']"
      ]
     },
     "execution_count": 4,
     "metadata": {},
     "output_type": "execute_result"
    }
   ],
   "source": [
    "iris.feature_names"
   ]
  },
  {
   "cell_type": "code",
   "execution_count": 5,
   "id": "d20d5ab1",
   "metadata": {},
   "outputs": [
    {
     "data": {
      "text/plain": [
       "dict_keys(['data', 'target', 'frame', 'target_names', 'DESCR', 'feature_names', 'filename', 'data_module'])"
      ]
     },
     "execution_count": 5,
     "metadata": {},
     "output_type": "execute_result"
    }
   ],
   "source": [
    "iris.keys()"
   ]
  },
  {
   "cell_type": "code",
   "execution_count": 16,
   "id": "113a7ffb",
   "metadata": {},
   "outputs": [
    {
     "name": "stdout",
     "output_type": "stream",
     "text": [
      ".. _iris_dataset:\n",
      "\n",
      "Iris plants dataset\n",
      "--------------------\n",
      "\n",
      "**Data Set Characteristics:**\n",
      "\n",
      "    :Number of Instances: 150 (50 in each of three classes)\n",
      "    :Number of Attributes: 4 numeric, predictive attributes and the class\n",
      "    :Attribute Information:\n",
      "        - sepal length in cm\n",
      "        - sepal width in cm\n",
      "        - petal length in cm\n",
      "        - petal width in cm\n",
      "        - class:\n",
      "                - Iris-Setosa\n",
      "                - Iris-Versicolour\n",
      "                - Iris-Virginica\n",
      "                \n",
      "    :Summary Statistics:\n",
      "\n",
      "    ============== ==== ==== ======= ===== ====================\n",
      "                    Min  Max   Mean    SD   Class Correlation\n",
      "    ============== ==== ==== ======= ===== ====================\n",
      "    sepal length:   4.3  7.9   5.84   0.83    0.7826\n",
      "    sepal width:    2.0  4.4   3.05   0.43   -0.4194\n",
      "    petal length:   1.0  6.9   3.76   1.76    0.9490  (high!)\n",
      "    petal width:    0.1  2.5   1.20   0.76    0.9565  (high!)\n",
      "    ============== ==== ==== ======= ===== ====================\n",
      "\n",
      "    :Missing Attribute Values: None\n",
      "    :Class Distribution: 33.3% for each of 3 classes.\n",
      "    :Creator: R.A. Fisher\n",
      "    :Donor: Michael Marshall (MARSHALL%PLU@io.arc.nasa.gov)\n",
      "    :Date: July, 1988\n",
      "\n",
      "The famous Iris database, first used by Sir R.A. Fisher. The dataset is taken\n",
      "from Fisher's paper. Note that it's the same as in R, but not as in the UCI\n",
      "Machine Learning Repository, which has two wrong data points.\n",
      "\n",
      "This is perhaps the best known database to be found in the\n",
      "pattern recognition literature.  Fisher's paper is a classic in the field and\n",
      "is referenced frequently to this day.  (See Duda & Hart, for example.)  The\n",
      "data set contains 3 classes of 50 instances each, where each class refers to a\n",
      "type of iris plant.  One class is linearly separable from the other 2; the\n",
      "latter are NOT linearly separable from each other.\n",
      "\n",
      ".. topic:: References\n",
      "\n",
      "   - Fisher, R.A. \"The use of multiple measurements in taxonomic problems\"\n",
      "     Annual Eugenics, 7, Part II, 179-188 (1936); also in \"Contributions to\n",
      "     Mathematical Statistics\" (John Wiley, NY, 1950).\n",
      "   - Duda, R.O., & Hart, P.E. (1973) Pattern Classification and Scene Analysis.\n",
      "     (Q327.D83) John Wiley & Sons.  ISBN 0-471-22361-1.  See page 218.\n",
      "   - Dasarathy, B.V. (1980) \"Nosing Around the Neighborhood: A New System\n",
      "     Structure and Classification Rule for Recognition in Partially Exposed\n",
      "     Environments\".  IEEE Transactions on Pattern Analysis and Machine\n",
      "     Intelligence, Vol. PAMI-2, No. 1, 67-71.\n",
      "   - Gates, G.W. (1972) \"The Reduced Nearest Neighbor Rule\".  IEEE Transactions\n",
      "     on Information Theory, May 1972, 431-433.\n",
      "   - See also: 1988 MLC Proceedings, 54-64.  Cheeseman et al\"s AUTOCLASS II\n",
      "     conceptual clustering system finds 3 classes in the data.\n",
      "   - Many, many more ...\n"
     ]
    }
   ],
   "source": [
    "print(iris['DESCR'])"
   ]
  },
  {
   "cell_type": "code",
   "execution_count": 6,
   "id": "18849acf",
   "metadata": {},
   "outputs": [
    {
     "data": {
      "text/plain": [
       "array([0, 0, 0, 0, 0, 0, 0, 0, 0, 0, 0, 0, 0, 0, 0, 0, 0, 0, 0, 0, 0, 0,\n",
       "       0, 0, 0, 0, 0, 0, 0, 0, 0, 0, 0, 0, 0, 0, 0, 0, 0, 0, 0, 0, 0, 0,\n",
       "       0, 0, 0, 0, 0, 0, 1, 1, 1, 1, 1, 1, 1, 1, 1, 1, 1, 1, 1, 1, 1, 1,\n",
       "       1, 1, 1, 1, 1, 1, 1, 1, 1, 1, 1, 1, 1, 1, 1, 1, 1, 1, 1, 1, 1, 1,\n",
       "       1, 1, 1, 1, 1, 1, 1, 1, 1, 1, 1, 1, 2, 2, 2, 2, 2, 2, 2, 2, 2, 2,\n",
       "       2, 2, 2, 2, 2, 2, 2, 2, 2, 2, 2, 2, 2, 2, 2, 2, 2, 2, 2, 2, 2, 2,\n",
       "       2, 2, 2, 2, 2, 2, 2, 2, 2, 2, 2, 2, 2, 2, 2, 2, 2, 2])"
      ]
     },
     "execution_count": 6,
     "metadata": {},
     "output_type": "execute_result"
    }
   ],
   "source": [
    "iris.target #Iris-Setosa 0\n",
    "                #- Iris-Versicolour 1\n",
    "                #- Iris-Virginica 2"
   ]
  },
  {
   "cell_type": "code",
   "execution_count": 13,
   "id": "5b9782f4",
   "metadata": {},
   "outputs": [],
   "source": [
    "iris['new_target']=(iris['target']>1)*1 #Nowy target - rozróżnienie czy dana próbka jest z gatunku **virginica** czy nie, jak jest to przypisuje jej 1, reszta 0"
   ]
  },
  {
   "cell_type": "code",
   "execution_count": 14,
   "id": "e07c48e7",
   "metadata": {},
   "outputs": [
    {
     "data": {
      "text/plain": [
       "array([0, 0, 0, 0, 0, 0, 0, 0, 0, 0, 0, 0, 0, 0, 0, 0, 0, 0, 0, 0, 0, 0,\n",
       "       0, 0, 0, 0, 0, 0, 0, 0, 0, 0, 0, 0, 0, 0, 0, 0, 0, 0, 0, 0, 0, 0,\n",
       "       0, 0, 0, 0, 0, 0, 0, 0, 0, 0, 0, 0, 0, 0, 0, 0, 0, 0, 0, 0, 0, 0,\n",
       "       0, 0, 0, 0, 0, 0, 0, 0, 0, 0, 0, 0, 0, 0, 0, 0, 0, 0, 0, 0, 0, 0,\n",
       "       0, 0, 0, 0, 0, 0, 0, 0, 0, 0, 0, 0, 1, 1, 1, 1, 1, 1, 1, 1, 1, 1,\n",
       "       1, 1, 1, 1, 1, 1, 1, 1, 1, 1, 1, 1, 1, 1, 1, 1, 1, 1, 1, 1, 1, 1,\n",
       "       1, 1, 1, 1, 1, 1, 1, 1, 1, 1, 1, 1, 1, 1, 1, 1, 1, 1])"
      ]
     },
     "execution_count": 14,
     "metadata": {},
     "output_type": "execute_result"
    }
   ],
   "source": [
    "iris['new_target']"
   ]
  },
  {
   "cell_type": "code",
   "execution_count": 18,
   "id": "6684f290",
   "metadata": {},
   "outputs": [],
   "source": [
    "# Klasyfikacja binarna\n",
    "# Rozpoznawanie czy dana próbka jest z gatunku virginica."
   ]
  },
  {
   "cell_type": "code",
   "execution_count": 19,
   "id": "a35acd70",
   "metadata": {},
   "outputs": [],
   "source": [
    "#podział zbioru na część testową i treningową\n",
    "X_train, X_test, y_train, y_test = train_test_split( iris[\"data\"], \n",
    "    iris[\"new_target\"],\n",
    "    test_size=0.33,\n",
    "    random_state=42)"
   ]
  },
  {
   "cell_type": "code",
   "execution_count": 20,
   "id": "3226030e",
   "metadata": {},
   "outputs": [],
   "source": [
    "#tworzenie modelu i trenowanie na danych treningowych\n",
    "model=LogisticRegression(random_state=42)"
   ]
  },
  {
   "cell_type": "code",
   "execution_count": 21,
   "id": "7498baa6",
   "metadata": {},
   "outputs": [
    {
     "data": {
      "text/plain": [
       "LogisticRegression(random_state=42)"
      ]
     },
     "execution_count": 21,
     "metadata": {},
     "output_type": "execute_result"
    }
   ],
   "source": [
    "model.fit(X_train, y_train)"
   ]
  },
  {
   "cell_type": "code",
   "execution_count": 22,
   "id": "b89e8f48",
   "metadata": {},
   "outputs": [],
   "source": [
    "#predykcja na zbiorze testowym\n",
    "y_pred=model.predict(X_test)"
   ]
  },
  {
   "cell_type": "code",
   "execution_count": 23,
   "id": "d0f8b9ae",
   "metadata": {},
   "outputs": [],
   "source": [
    "#zobaczmy jak model jest dopasowany do danych treningowych\n",
    "y_fit_train=model.predict(X_train)"
   ]
  },
  {
   "cell_type": "code",
   "execution_count": 24,
   "id": "9d3b6889",
   "metadata": {},
   "outputs": [
    {
     "data": {
      "text/plain": [
       "array([[7.96755454e-01, 2.03244546e-01],\n",
       "       [9.99983143e-01, 1.68574882e-05],\n",
       "       [2.39582907e-03, 9.97604171e-01],\n",
       "       [7.80922675e-01, 2.19077325e-01],\n",
       "       [7.10846078e-01, 2.89153922e-01],\n",
       "       [9.99984297e-01, 1.57030422e-05],\n",
       "       [9.78747901e-01, 2.12520987e-02],\n",
       "       [1.76616781e-01, 8.23383219e-01],\n",
       "       [7.43932837e-01, 2.56067163e-01],\n",
       "       [9.62981398e-01, 3.70186016e-02],\n",
       "       [2.68294554e-01, 7.31705446e-01],\n",
       "       [9.99990926e-01, 9.07413839e-06],\n",
       "       [9.99994058e-01, 5.94171025e-06],\n",
       "       [9.99989057e-01, 1.09429325e-05],\n",
       "       [9.99988001e-01, 1.19985660e-05],\n",
       "       [6.88908069e-01, 3.11091931e-01],\n",
       "       [3.76243674e-02, 9.62375633e-01],\n",
       "       [9.65543623e-01, 3.44563773e-02],\n",
       "       [8.26042208e-01, 1.73957792e-01],\n",
       "       [5.51950860e-02, 9.44804914e-01],\n",
       "       [9.99982471e-01, 1.75287318e-05],\n",
       "       [4.30969796e-01, 5.69030204e-01],\n",
       "       [9.99977497e-01, 2.25030597e-05],\n",
       "       [6.67599345e-02, 9.33240066e-01],\n",
       "       [2.48575720e-02, 9.75142428e-01],\n",
       "       [1.32161368e-01, 8.67838632e-01],\n",
       "       [7.16125492e-02, 9.28387451e-01],\n",
       "       [2.81851327e-02, 9.71814867e-01],\n",
       "       [9.99986394e-01, 1.36060462e-05],\n",
       "       [9.99982298e-01, 1.77022928e-05],\n",
       "       [9.99996562e-01, 3.43842533e-06],\n",
       "       [9.99989997e-01, 1.00026457e-05],\n",
       "       [8.79602958e-01, 1.20397042e-01],\n",
       "       [9.99984156e-01, 1.58440712e-05],\n",
       "       [9.99991055e-01, 8.94547247e-06],\n",
       "       [2.96839132e-01, 7.03160868e-01],\n",
       "       [8.16139448e-01, 1.83860552e-01],\n",
       "       [9.99989345e-01, 1.06550084e-05],\n",
       "       [9.99991569e-01, 8.43125100e-06],\n",
       "       [9.99993029e-01, 6.97050206e-06],\n",
       "       [2.35884063e-01, 7.64115937e-01],\n",
       "       [7.77877603e-01, 2.22122397e-01],\n",
       "       [7.37320183e-01, 2.62679817e-01],\n",
       "       [9.99992104e-01, 7.89580642e-06],\n",
       "       [9.99990627e-01, 9.37334267e-06],\n",
       "       [9.81551613e-01, 1.84483871e-02],\n",
       "       [4.51982936e-01, 5.48017064e-01],\n",
       "       [1.58734391e-01, 8.41265609e-01],\n",
       "       [8.72649946e-01, 1.27350054e-01],\n",
       "       [1.48933663e-02, 9.85106634e-01]])"
      ]
     },
     "execution_count": 24,
     "metadata": {},
     "output_type": "execute_result"
    }
   ],
   "source": [
    "model.predict_proba(X_test) #Szacunki prawdopodobieństwa."
   ]
  },
  {
   "cell_type": "code",
   "execution_count": 25,
   "id": "c3a14ac8",
   "metadata": {},
   "outputs": [
    {
     "data": {
      "text/plain": [
       "array([0, 0, 1, 0, 0, 0, 0, 1, 0, 0, 1, 0, 0, 0, 0, 0, 1, 0, 0, 1, 0, 1,\n",
       "       0, 1, 1, 1, 1, 1, 0, 0, 0, 0, 0, 0, 0, 1, 0, 0, 0, 0, 1, 0, 0, 0,\n",
       "       0, 0, 1, 1, 0, 1])"
      ]
     },
     "execution_count": 25,
     "metadata": {},
     "output_type": "execute_result"
    }
   ],
   "source": [
    "y_pred #predykcja na zbiorze testowym"
   ]
  },
  {
   "cell_type": "code",
   "execution_count": 26,
   "id": "1ff09a9c",
   "metadata": {},
   "outputs": [],
   "source": [
    "#sprawdzam metryki predycji\n",
    "cm=confusion_matrix(y_test,y_pred)"
   ]
  },
  {
   "cell_type": "code",
   "execution_count": 27,
   "id": "93978d53",
   "metadata": {},
   "outputs": [
    {
     "data": {
      "image/png": "[encoded data removed]",
      "text/plain": [
       "<Figure size 640x480 with 2 Axes>"
      ]
     },
     "metadata": {},
     "output_type": "display_data"
    }
   ],
   "source": [
    "cm_display=ConfusionMatrixDisplay(cm).plot()"
   ]
  },
  {
   "cell_type": "code",
   "execution_count": 28,
   "id": "e2689137",
   "metadata": {},
   "outputs": [
    {
     "name": "stdout",
     "output_type": "stream",
     "text": [
      "              precision    recall  f1-score   support\n",
      "\n",
      "           0       1.00      1.00      1.00        34\n",
      "           1       1.00      1.00      1.00        16\n",
      "\n",
      "    accuracy                           1.00        50\n",
      "   macro avg       1.00      1.00      1.00        50\n",
      "weighted avg       1.00      1.00      1.00        50\n",
      "\n"
     ]
    }
   ],
   "source": [
    "print(classification_report(y_test,y_pred))"
   ]
  },
  {
   "cell_type": "code",
   "execution_count": 32,
   "id": "9c24ae2a",
   "metadata": {},
   "outputs": [],
   "source": [
    "pred_test_proba= model.predict_proba(X_test)[:,1] #predykcja na zbiorze testowym"
   ]
  },
  {
   "cell_type": "code",
   "execution_count": 33,
   "id": "72c1c4d8",
   "metadata": {},
   "outputs": [],
   "source": [
    "fpr_test, tpr_test, _ = roc_curve(y_test, pred_test_proba)"
   ]
  },
  {
   "cell_type": "code",
   "execution_count": 35,
   "id": "493b17f4",
   "metadata": {},
   "outputs": [
    {
     "data": {
      "image/png": "[encoded data removed]",
      "text/plain": [
       "<Figure size 640x480 with 1 Axes>"
      ]
     },
     "metadata": {},
     "output_type": "display_data"
    }
   ],
   "source": [
    "roc_display=RocCurveDisplay(fpr=fpr_test, tpr=tpr_test).plot() #Podczas korzystania z y_pred, krzywa ROC będzie miała tylko „1” i „0” do obliczenia zmiennych, więc krzywa ROC będzie przybliżona. Aby uniknąć tego efektu i uzyskać dokładniejsze wyniki, zaleca się użycie y_probai uzyskanie prawdopodobieństw klasy „1” przy obliczaniu AUC ROC:"
   ]
  },
  {
   "cell_type": "code",
   "execution_count": 41,
   "id": "ecafa327",
   "metadata": {},
   "outputs": [],
   "source": [
    "wynik = roc_auc_score(y_test, pred_test_proba) "
   ]
  },
  {
   "cell_type": "code",
   "execution_count": 42,
   "id": "184ef800",
   "metadata": {},
   "outputs": [
    {
     "data": {
      "text/plain": [
       "1.0"
      ]
     },
     "execution_count": 42,
     "metadata": {},
     "output_type": "execute_result"
    }
   ],
   "source": [
    "wynik"
   ]
  },
  {
   "cell_type": "code",
   "execution_count": null,
   "id": "15e17503",
   "metadata": {},
   "outputs": [],
   "source": [
    "#Klasyfikacja binarna - gatunek **versicolour**\n"
   ]
  },
  {
   "cell_type": "code",
   "execution_count": 43,
   "id": "d62ddc80",
   "metadata": {},
   "outputs": [
    {
     "data": {
      "text/plain": [
       "array([0, 0, 0, 0, 0, 0, 0, 0, 0, 0, 0, 0, 0, 0, 0, 0, 0, 0, 0, 0, 0, 0,\n",
       "       0, 0, 0, 0, 0, 0, 0, 0, 0, 0, 0, 0, 0, 0, 0, 0, 0, 0, 0, 0, 0, 0,\n",
       "       0, 0, 0, 0, 0, 0, 1, 1, 1, 1, 1, 1, 1, 1, 1, 1, 1, 1, 1, 1, 1, 1,\n",
       "       1, 1, 1, 1, 1, 1, 1, 1, 1, 1, 1, 1, 1, 1, 1, 1, 1, 1, 1, 1, 1, 1,\n",
       "       1, 1, 1, 1, 1, 1, 1, 1, 1, 1, 1, 1, 2, 2, 2, 2, 2, 2, 2, 2, 2, 2,\n",
       "       2, 2, 2, 2, 2, 2, 2, 2, 2, 2, 2, 2, 2, 2, 2, 2, 2, 2, 2, 2, 2, 2,\n",
       "       2, 2, 2, 2, 2, 2, 2, 2, 2, 2, 2, 2, 2, 2, 2, 2, 2, 2])"
      ]
     },
     "execution_count": 43,
     "metadata": {},
     "output_type": "execute_result"
    }
   ],
   "source": [
    "iris.target #Iris-Setosa 0\n",
    "                #- Iris-Versicolour 1\n",
    "                #- Iris-Virginica 2"
   ]
  },
  {
   "cell_type": "code",
   "execution_count": 69,
   "id": "4b6feb66",
   "metadata": {},
   "outputs": [],
   "source": [
    "iris['new_target2']=(iris['target']==1)*1"
   ]
  },
  {
   "cell_type": "code",
   "execution_count": 70,
   "id": "72891a64",
   "metadata": {},
   "outputs": [
    {
     "data": {
      "text/plain": [
       "array([0, 0, 0, 0, 0, 0, 0, 0, 0, 0, 0, 0, 0, 0, 0, 0, 0, 0, 0, 0, 0, 0,\n",
       "       0, 0, 0, 0, 0, 0, 0, 0, 0, 0, 0, 0, 0, 0, 0, 0, 0, 0, 0, 0, 0, 0,\n",
       "       0, 0, 0, 0, 0, 0, 1, 1, 1, 1, 1, 1, 1, 1, 1, 1, 1, 1, 1, 1, 1, 1,\n",
       "       1, 1, 1, 1, 1, 1, 1, 1, 1, 1, 1, 1, 1, 1, 1, 1, 1, 1, 1, 1, 1, 1,\n",
       "       1, 1, 1, 1, 1, 1, 1, 1, 1, 1, 1, 1, 0, 0, 0, 0, 0, 0, 0, 0, 0, 0,\n",
       "       0, 0, 0, 0, 0, 0, 0, 0, 0, 0, 0, 0, 0, 0, 0, 0, 0, 0, 0, 0, 0, 0,\n",
       "       0, 0, 0, 0, 0, 0, 0, 0, 0, 0, 0, 0, 0, 0, 0, 0, 0, 0])"
      ]
     },
     "execution_count": 70,
     "metadata": {},
     "output_type": "execute_result"
    }
   ],
   "source": [
    "iris['new_target2']"
   ]
  },
  {
   "cell_type": "code",
   "execution_count": 71,
   "id": "0575da77",
   "metadata": {},
   "outputs": [],
   "source": [
    "# Klasyfikacja binarna\n",
    "# Rozpoznawanie czy dana próbka jest z gatunku versicolour"
   ]
  },
  {
   "cell_type": "code",
   "execution_count": 72,
   "id": "7a949a39",
   "metadata": {},
   "outputs": [],
   "source": [
    "#podział zbioru na część testową i treningową\n",
    "X_train2, X_test2, y_train2, y_test2 = train_test_split( iris[\"data\"], \n",
    "    iris[\"new_target2\"],\n",
    "    test_size=0.33,\n",
    "    random_state=42)"
   ]
  },
  {
   "cell_type": "code",
   "execution_count": 73,
   "id": "5b0b7dde",
   "metadata": {},
   "outputs": [],
   "source": [
    "#tworzenie modelu i trenowanie na danych treningowych\n",
    "model=LogisticRegression(random_state=42)"
   ]
  },
  {
   "cell_type": "code",
   "execution_count": 74,
   "id": "25ff67f9",
   "metadata": {},
   "outputs": [
    {
     "data": {
      "text/plain": [
       "LogisticRegression(random_state=42)"
      ]
     },
     "execution_count": 74,
     "metadata": {},
     "output_type": "execute_result"
    }
   ],
   "source": [
    "model.fit(X_train2,y_train2)"
   ]
  },
  {
   "cell_type": "code",
   "execution_count": 75,
   "id": "1816612e",
   "metadata": {},
   "outputs": [],
   "source": [
    "#predykcja na zbiorze testowym\n",
    "y_pred=model.predict(X_test2)"
   ]
  },
  {
   "cell_type": "code",
   "execution_count": 76,
   "id": "d12b6199",
   "metadata": {},
   "outputs": [
    {
     "data": {
      "text/plain": [
       "array([1, 0, 1, 0, 0, 0, 0, 0, 1, 0, 0, 0, 0, 0, 0, 0, 0, 1, 1, 0, 0, 0,\n",
       "       0, 0, 0, 0, 1, 0, 0, 0, 0, 0, 0, 0, 0, 1, 0, 0, 0, 0, 1, 0, 0, 0,\n",
       "       0, 1, 1, 0, 0, 0])"
      ]
     },
     "execution_count": 76,
     "metadata": {},
     "output_type": "execute_result"
    }
   ],
   "source": [
    "y_pred"
   ]
  },
  {
   "cell_type": "code",
   "execution_count": 77,
   "id": "97496538",
   "metadata": {},
   "outputs": [
    {
     "data": {
      "text/plain": [
       "(100, 4)"
      ]
     },
     "execution_count": 77,
     "metadata": {},
     "output_type": "execute_result"
    }
   ],
   "source": [
    "X_train2.shape"
   ]
  },
  {
   "cell_type": "code",
   "execution_count": 78,
   "id": "534d4030",
   "metadata": {},
   "outputs": [],
   "source": [
    "#zobaczmy jak model jest dopasowany do danych treningowych\n",
    "y_fit_train=model.predict(X_train2)"
   ]
  },
  {
   "cell_type": "code",
   "execution_count": 79,
   "id": "457628ac",
   "metadata": {},
   "outputs": [
    {
     "data": {
      "text/plain": [
       "array([0, 0, 0, 0, 1, 1, 0, 0, 0, 1, 0, 0, 0, 0, 1, 0, 0, 0, 0, 0, 1, 0,\n",
       "       0, 1, 1, 0, 0, 1, 0, 1, 0, 0, 0, 1, 0, 0, 0, 0, 0, 0, 1, 0, 1, 1,\n",
       "       0, 1, 0, 0, 1, 0, 0, 0, 0, 1, 0, 0, 0, 0, 0, 0, 0, 0, 0, 0, 0, 0,\n",
       "       0, 0, 1, 0, 0, 1, 0, 1, 0, 0, 0, 0, 0, 1, 0, 0, 0, 0, 0, 0, 0, 0,\n",
       "       0, 0, 1, 0, 0, 0, 0, 0, 1, 0, 1, 0])"
      ]
     },
     "execution_count": 79,
     "metadata": {},
     "output_type": "execute_result"
    }
   ],
   "source": [
    "y_fit_train"
   ]
  },
  {
   "cell_type": "code",
   "execution_count": 80,
   "id": "0740c788",
   "metadata": {},
   "outputs": [
    {
     "data": {
      "text/plain": [
       "array([[0.460219  , 0.539781  ],\n",
       "       [0.94372943, 0.05627057],\n",
       "       [0.41352481, 0.58647519],\n",
       "       [0.60996337, 0.39003663],\n",
       "       [0.55261902, 0.44738098],\n",
       "       [0.8920805 , 0.1079195 ],\n",
       "       [0.66608123, 0.33391877],\n",
       "       [0.83008612, 0.16991388],\n",
       "       [0.2788058 , 0.7211942 ],\n",
       "       [0.51133193, 0.48866807],\n",
       "       [0.7957162 , 0.2042838 ],\n",
       "       [0.69790156, 0.30209844],\n",
       "       [0.90734863, 0.09265137],\n",
       "       [0.73411478, 0.26588522],\n",
       "       [0.93980451, 0.06019549],\n",
       "       [0.79513784, 0.20486216],\n",
       "       [0.66666192, 0.33333808],\n",
       "       [0.36807517, 0.63192483],\n",
       "       [0.48410707, 0.51589293],\n",
       "       [0.59144078, 0.40855922],\n",
       "       [0.76756058, 0.23243942],\n",
       "       [0.67589246, 0.32410754],\n",
       "       [0.87152586, 0.12847414],\n",
       "       [0.56688748, 0.43311252],\n",
       "       [0.9043407 , 0.0956593 ],\n",
       "       [0.77662505, 0.22337495],\n",
       "       [0.33423029, 0.66576971],\n",
       "       [0.77696063, 0.22303937],\n",
       "       [0.73862766, 0.26137234],\n",
       "       [0.73473079, 0.26526921],\n",
       "       [0.91555821, 0.08444179],\n",
       "       [0.98666591, 0.01333409],\n",
       "       [0.74315982, 0.25684018],\n",
       "       [0.8383897 , 0.1616103 ],\n",
       "       [0.78368938, 0.21631062],\n",
       "       [0.44825422, 0.55174578],\n",
       "       [0.76996157, 0.23003843],\n",
       "       [0.88626319, 0.11373681],\n",
       "       [0.90549755, 0.09450245],\n",
       "       [0.96111322, 0.03888678],\n",
       "       [0.4949071 , 0.5050929 ],\n",
       "       [0.83115193, 0.16884807],\n",
       "       [0.72521099, 0.27478901],\n",
       "       [0.96396522, 0.03603478],\n",
       "       [0.9267757 , 0.0732243 ],\n",
       "       [0.31967471, 0.68032529],\n",
       "       [0.48812986, 0.51187014],\n",
       "       [0.65896119, 0.34103881],\n",
       "       [0.69422114, 0.30577886],\n",
       "       [0.90814332, 0.09185668]])"
      ]
     },
     "execution_count": 80,
     "metadata": {},
     "output_type": "execute_result"
    }
   ],
   "source": [
    "model.predict_proba(X_test2) #Szacunki prawdopodobieństwa."
   ]
  },
  {
   "cell_type": "code",
   "execution_count": 82,
   "id": "2bc73038",
   "metadata": {},
   "outputs": [],
   "source": [
    "#sprawdzam metryki predycji\n",
    "cm2=confusion_matrix(y_test2,y_pred)"
   ]
  },
  {
   "cell_type": "code",
   "execution_count": 84,
   "id": "7467783b",
   "metadata": {},
   "outputs": [
    {
     "data": {
      "image/png": "[encoded data removed]",
      "text/plain": [
       "<Figure size 640x480 with 2 Axes>"
      ]
     },
     "metadata": {},
     "output_type": "display_data"
    }
   ],
   "source": [
    "cm_display2=ConfusionMatrixDisplay(cm2).plot()"
   ]
  },
  {
   "cell_type": "code",
   "execution_count": 86,
   "id": "56c0ac2c",
   "metadata": {},
   "outputs": [
    {
     "name": "stdout",
     "output_type": "stream",
     "text": [
      "              precision    recall  f1-score   support\n",
      "\n",
      "           0       0.75      0.86      0.80        35\n",
      "           1       0.50      0.33      0.40        15\n",
      "\n",
      "    accuracy                           0.70        50\n",
      "   macro avg       0.62      0.60      0.60        50\n",
      "weighted avg       0.68      0.70      0.68        50\n",
      "\n"
     ]
    }
   ],
   "source": [
    "print(classification_report(y_test2,y_pred))"
   ]
  },
  {
   "cell_type": "code",
   "execution_count": 88,
   "id": "eec10f30",
   "metadata": {},
   "outputs": [],
   "source": [
    "pred_test_proba2=model.predict_proba(X_test2)[:,1] #predykcja na zbiorze testowym"
   ]
  },
  {
   "cell_type": "code",
   "execution_count": 90,
   "id": "fca9f846",
   "metadata": {},
   "outputs": [],
   "source": [
    "fpr_test2,tpr_test2,_=roc_curve(y_test2,pred_test_proba2)"
   ]
  },
  {
   "cell_type": "code",
   "execution_count": 91,
   "id": "61ae7e74",
   "metadata": {},
   "outputs": [
    {
     "data": {
      "image/png": "[encoded data removed]",
      "text/plain": [
       "<Figure size 640x480 with 1 Axes>"
      ]
     },
     "metadata": {},
     "output_type": "display_data"
    }
   ],
   "source": [
    "roc_display2=RocCurveDisplay(fpr=fpr_test2, tpr=tpr_test2).plot()"
   ]
  },
  {
   "cell_type": "code",
   "execution_count": 92,
   "id": "3d8e6260",
   "metadata": {},
   "outputs": [],
   "source": [
    "wynik2 = roc_auc_score(y_test2, pred_test_proba2) "
   ]
  },
  {
   "cell_type": "code",
   "execution_count": 93,
   "id": "a0d82a8a",
   "metadata": {},
   "outputs": [
    {
     "data": {
      "text/plain": [
       "0.7714285714285714"
      ]
     },
     "execution_count": 93,
     "metadata": {},
     "output_type": "execute_result"
    }
   ],
   "source": [
    "wynik2"
   ]
  },
  {
   "cell_type": "code",
   "execution_count": 94,
   "id": "2782ae20",
   "metadata": {},
   "outputs": [],
   "source": [
    "from sklearn import metrics\n"
   ]
  },
  {
   "cell_type": "code",
   "execution_count": 96,
   "id": "05d829a8",
   "metadata": {},
   "outputs": [
    {
     "data": {
      "text/plain": [
       "0.7"
      ]
     },
     "execution_count": 96,
     "metadata": {},
     "output_type": "execute_result"
    }
   ],
   "source": [
    "metrics.accuracy_score(y_test2,y_pred)"
   ]
  },
  {
   "cell_type": "code",
   "execution_count": 97,
   "id": "81b51485",
   "metadata": {},
   "outputs": [
    {
     "data": {
      "text/plain": [
       "0.5"
      ]
     },
     "execution_count": 97,
     "metadata": {},
     "output_type": "execute_result"
    }
   ],
   "source": [
    "metrics.precision_score(y_test2,y_pred)"
   ]
  },
  {
   "cell_type": "code",
   "execution_count": 98,
   "id": "6dae1b52",
   "metadata": {},
   "outputs": [
    {
     "data": {
      "text/plain": [
       "0.3333333333333333"
      ]
     },
     "execution_count": 98,
     "metadata": {},
     "output_type": "execute_result"
    }
   ],
   "source": [
    "metrics.recall_score(y_test2,y_pred)"
   ]
  },
  {
   "cell_type": "code",
   "execution_count": null,
   "id": "6580ed47",
   "metadata": {},
   "outputs": [],
   "source": [
    "Dla gatunku virginica regresja logistyczna okazała się dobrym modelem predykcyjnym. Należy jednak pamiętać, że wysokie wyniki metryk wynikają z niewielkiego zbioru próbek - w rzeczywistośći model nie będzie miał 100% precyzji.\n",
    "\n",
    "Dla gatunku versicolour regresja logistyczna daje gorsze wyniki, co może sugerować, że nie jest najlepszym modelem predykcji dla tego problemu."
   ]
  }
 ],
 "metadata": {
  "kernelspec": {
   "display_name": "Python 3 (ipykernel)",
   "language": "python",
   "name": "python3"
  },
  "language_info": {
   "codemirror_mode": {
    "name": "ipython",
    "version": 3
   },
   "file_extension": ".py",
   "mimetype": "text/x-python",
   "name": "python",
   "nbconvert_exporter": "python",
   "pygments_lexer": "ipython3",
   "version": "3.9.13"
  }
 },
 "nbformat": 4,
 "nbformat_minor": 5
}
